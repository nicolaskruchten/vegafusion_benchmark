{
 "cells": [
  {
   "cell_type": "code",
   "execution_count": null,
   "id": "769802ef-9384-4220-91d5-b3573631e148",
   "metadata": {},
   "outputs": [],
   "source": [
    "import altair as alt\n",
    "import pandas as pd\n",
    "import vegafusion as vf\n",
    "alt.data_transformers.enable('data_server')\n",
    "\n",
    "df = pd.read_parquet(\"flights/flights_1m.parquet\")\n",
    "\n",
    "brush = alt.selection(type='interval', encodings=['x'])\n",
    "\n",
    "# Define the base chart, with the common parts of the\n",
    "# background and highlights\n",
    "base = alt.Chart().mark_bar().encode(\n",
    "    x=alt.X(alt.repeat('column'), type='quantitative', bin=alt.Bin(maxbins=20)),\n",
    "    y='count()'\n",
    ").properties(\n",
    "    width=160,\n",
    "    height=130\n",
    ")\n",
    "\n",
    "# gray background with selection\n",
    "background = base.encode(\n",
    "    color=alt.value('#ddd')\n",
    ").add_selection(brush)\n",
    "\n",
    "# blue highlights on the transformed data\n",
    "highlight = base.transform_filter(brush)\n",
    "\n",
    "# layer the two charts & repeat\n",
    "chart_spec = alt.layer(\n",
    "    background,\n",
    "    highlight,\n",
    "    data=df\n",
    ").transform_calculate(\n",
    "    \"time\",\n",
    "    \"hours(datum.date)\"\n",
    ").repeat(column=[\"distance\", \"delay\", \"time\"])"
   ]
  },
  {
   "cell_type": "code",
   "execution_count": null,
   "id": "6646473e-d1fe-4df3-a6ef-4578fb0a59ff",
   "metadata": {},
   "outputs": [],
   "source": [
    "chart_spec"
   ]
  },
  {
   "cell_type": "code",
   "execution_count": null,
   "id": "1fb2795c-0871-4a4a-9260-63d341e8aa78",
   "metadata": {},
   "outputs": [],
   "source": [
    "vf.jupyter.enable(debounce_wait=0, debounce_max_wait=0)\n",
    "chart_spec"
   ]
  },
  {
   "cell_type": "code",
   "execution_count": null,
   "id": "f2672a23-45e8-4ba4-a363-48222745301e",
   "metadata": {},
   "outputs": [],
   "source": []
  }
 ],
 "metadata": {
  "kernelspec": {
   "display_name": "Python 3 (ipykernel)",
   "language": "python",
   "name": "python3"
  },
  "language_info": {
   "codemirror_mode": {
    "name": "ipython",
    "version": 3
   },
   "file_extension": ".py",
   "mimetype": "text/x-python",
   "name": "python",
   "nbconvert_exporter": "python",
   "pygments_lexer": "ipython3",
   "version": "3.9.7"
  }
 },
 "nbformat": 4,
 "nbformat_minor": 5
}
