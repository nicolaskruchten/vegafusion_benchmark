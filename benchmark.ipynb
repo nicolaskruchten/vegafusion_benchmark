{
 "cells": [
  {
   "cell_type": "code",
   "execution_count": 1,
   "id": "769802ef-9384-4220-91d5-b3573631e148",
   "metadata": {},
   "outputs": [],
   "source": [
    "import altair as alt\n",
    "import pandas as pd\n",
    "import vegafusion as vf\n",
    "\n",
    "def make_chart(source):\n",
    "    brush = alt.selection(type='interval', encodings=['x'])\n",
    "\n",
    "    # Define the base chart, with the common parts of the\n",
    "    # background and highlights\n",
    "    base = alt.Chart().mark_bar().encode(\n",
    "        x=alt.X(alt.repeat('column'), type='quantitative', bin=alt.Bin(maxbins=20)),\n",
    "        y='count()'\n",
    "    ).properties(\n",
    "        width=160,\n",
    "        height=130\n",
    "    )\n",
    "\n",
    "    # gray background with selection\n",
    "    background = base.encode(\n",
    "        color=alt.value('#ddd')\n",
    "    ).add_selection(brush)\n",
    "\n",
    "    # blue highlights on the transformed data\n",
    "    highlight = base.transform_filter(brush)\n",
    "\n",
    "    # layer the two charts & repeat\n",
    "    return alt.layer(\n",
    "        background,\n",
    "        highlight,\n",
    "        data=source\n",
    "    ).transform_calculate(\n",
    "        \"time\",\n",
    "        \"hours(datum.date)\"\n",
    "    ).repeat(column=[\"distance\", \"delay\", \"time\"])\n",
    "df = pd.read_parquet(\"flights/flights_1m.parquet\")"
   ]
  },
  {
   "cell_type": "code",
   "execution_count": 2,
   "id": "03ab980f-ea90-41dd-829f-13a5b87183dc",
   "metadata": {},
   "outputs": [
    {
     "data": {
      "text/plain": [
       "DataTransformerRegistry.enable('data_server')"
      ]
     },
     "execution_count": 2,
     "metadata": {},
     "output_type": "execute_result"
    }
   ],
   "source": [
    "alt.data_transformers.enable('default')\n",
    "vf.jupyter.enable(debounce_wait=0, debounce_max_wait=0)\n",
    "vf.jupyter.disable()\n",
    "alt.data_transformers.enable('data_server')"
   ]
  },
  {
   "cell_type": "code",
   "execution_count": 3,
   "id": "88354327-28eb-4bb8-a156-30919aec9963",
   "metadata": {},
   "outputs": [
    {
     "data": {
      "text/html": [
       "\n",
       "<div id=\"altair-viz-4c79b6729b3a4ba3bb297cb3bacbe498\"></div>\n",
       "<script type=\"text/javascript\">\n",
       "  var VEGA_DEBUG = (typeof VEGA_DEBUG == \"undefined\") ? {} : VEGA_DEBUG;\n",
       "  (function(spec, embedOpt){\n",
       "    let outputDiv = document.currentScript.previousElementSibling;\n",
       "    if (outputDiv.id !== \"altair-viz-4c79b6729b3a4ba3bb297cb3bacbe498\") {\n",
       "      outputDiv = document.getElementById(\"altair-viz-4c79b6729b3a4ba3bb297cb3bacbe498\");\n",
       "    }\n",
       "    const paths = {\n",
       "      \"vega\": \"https://cdn.jsdelivr.net/npm//vega@5?noext\",\n",
       "      \"vega-lib\": \"https://cdn.jsdelivr.net/npm//vega-lib?noext\",\n",
       "      \"vega-lite\": \"https://cdn.jsdelivr.net/npm//vega-lite@4.17.0?noext\",\n",
       "      \"vega-embed\": \"https://cdn.jsdelivr.net/npm//vega-embed@6?noext\",\n",
       "    };\n",
       "\n",
       "    function maybeLoadScript(lib, version) {\n",
       "      var key = `${lib.replace(\"-\", \"\")}_version`;\n",
       "      return (VEGA_DEBUG[key] == version) ?\n",
       "        Promise.resolve(paths[lib]) :\n",
       "        new Promise(function(resolve, reject) {\n",
       "          var s = document.createElement('script');\n",
       "          document.getElementsByTagName(\"head\")[0].appendChild(s);\n",
       "          s.async = true;\n",
       "          s.onload = () => {\n",
       "            VEGA_DEBUG[key] = version;\n",
       "            return resolve(paths[lib]);\n",
       "          };\n",
       "          s.onerror = () => reject(`Error loading script: ${paths[lib]}`);\n",
       "          s.src = paths[lib];\n",
       "        });\n",
       "    }\n",
       "\n",
       "    function showError(err) {\n",
       "      outputDiv.innerHTML = `<div class=\"error\" style=\"color:red;\">${err}</div>`;\n",
       "      throw err;\n",
       "    }\n",
       "\n",
       "    function displayChart(vegaEmbed) {\n",
       "      vegaEmbed(outputDiv, spec, embedOpt)\n",
       "        .catch(err => showError(`Javascript Error: ${err.message}<br>This usually means there's a typo in your chart specification. See the javascript console for the full traceback.`));\n",
       "    }\n",
       "\n",
       "    if(typeof define === \"function\" && define.amd) {\n",
       "      requirejs.config({paths});\n",
       "      require([\"vega-embed\"], displayChart, err => showError(`Error loading script: ${err.message}`));\n",
       "    } else {\n",
       "      maybeLoadScript(\"vega\", \"5\")\n",
       "        .then(() => maybeLoadScript(\"vega-lite\", \"4.17.0\"))\n",
       "        .then(() => maybeLoadScript(\"vega-embed\", \"6\"))\n",
       "        .catch(showError)\n",
       "        .then(() => displayChart(vegaEmbed));\n",
       "    }\n",
       "  })({\"config\": {\"view\": {\"continuousWidth\": 400, \"continuousHeight\": 300}}, \"repeat\": {\"column\": [\"distance\", \"delay\", \"time\"]}, \"spec\": {\"layer\": [{\"mark\": \"bar\", \"encoding\": {\"color\": {\"value\": \"#ddd\"}, \"x\": {\"bin\": {\"maxbins\": 20}, \"field\": {\"repeat\": \"column\"}, \"type\": \"quantitative\"}, \"y\": {\"aggregate\": \"count\", \"type\": \"quantitative\"}}, \"height\": 130, \"selection\": {\"selector001\": {\"type\": \"interval\", \"encodings\": [\"x\"]}}, \"width\": 160}, {\"mark\": \"bar\", \"encoding\": {\"x\": {\"bin\": {\"maxbins\": 20}, \"field\": {\"repeat\": \"column\"}, \"type\": \"quantitative\"}, \"y\": {\"aggregate\": \"count\", \"type\": \"quantitative\"}}, \"height\": 130, \"transform\": [{\"filter\": {\"selection\": \"selector001\"}}], \"width\": 160}], \"data\": {\"url\": \"http://localhost:19037/89b73f632a0ece781aab2b24f780b1b9.json\"}, \"transform\": [{\"calculate\": \"hours(datum.date)\", \"as\": \"time\"}]}, \"$schema\": \"https://vega.github.io/schema/vega-lite/v4.17.0.json\"}, {\"mode\": \"vega-lite\"});\n",
       "</script>"
      ],
      "text/plain": [
       "alt.RepeatChart(...)"
      ]
     },
     "execution_count": 3,
     "metadata": {},
     "output_type": "execute_result"
    }
   ],
   "source": [
    "vf.jupyter.disable()\n",
    "alt.data_transformers.enable('data_server')\n",
    "make_chart(df)"
   ]
  },
  {
   "cell_type": "code",
   "execution_count": 4,
   "id": "1fb2795c-0871-4a4a-9260-63d341e8aa78",
   "metadata": {},
   "outputs": [
    {
     "data": {
      "application/vnd.jupyter.widget-view+json": {
       "model_id": "6998676a75ee4e9daab21541d6972709",
       "version_major": 2,
       "version_minor": 0
      },
      "text/plain": [
       "VegaFusionWidget(debounce_max_wait=0.0, debounce_wait=0.0, spec='{\\n  \"config\": {\\n    \"view\": {\\n      \"conti…"
      ]
     },
     "metadata": {},
     "output_type": "display_data"
    }
   ],
   "source": [
    "alt.data_transformers.enable('default')\n",
    "vf.jupyter.enable(debounce_wait=0, debounce_max_wait=0)\n",
    "vf.jupyter.VegaFusionWidget(make_chart(df), verbose=True, debounce_wait=0, debounce_max_wait=0)"
   ]
  },
  {
   "cell_type": "code",
   "execution_count": null,
   "id": "3b1abc4c-4289-4037-a059-8de6d408a6b6",
   "metadata": {},
   "outputs": [],
   "source": []
  }
 ],
 "metadata": {
  "kernelspec": {
   "display_name": "Python 3 (ipykernel)",
   "language": "python",
   "name": "python3"
  },
  "language_info": {
   "codemirror_mode": {
    "name": "ipython",
    "version": 3
   },
   "file_extension": ".py",
   "mimetype": "text/x-python",
   "name": "python",
   "nbconvert_exporter": "python",
   "pygments_lexer": "ipython3",
   "version": "3.9.7"
  }
 },
 "nbformat": 4,
 "nbformat_minor": 5
}
